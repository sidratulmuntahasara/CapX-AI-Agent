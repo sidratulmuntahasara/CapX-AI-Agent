{
  "nbformat": 4,
  "nbformat_minor": 0,
  "metadata": {
    "colab": {
      "provenance": [],
      "include_colab_link": true
    },
    "kernelspec": {
      "name": "python3",
      "display_name": "Python 3"
    },
    "language_info": {
      "name": "python"
    }
  },
  "cells": [
    {
      "cell_type": "markdown",
      "metadata": {
        "id": "view-in-github",
        "colab_type": "text"
      },
      "source": [
        "<a href=\"https://colab.research.google.com/github/sidratulmuntahasara/CapX-AI-Agent/blob/main/CapxAIAgentTutorial.ipynb\" target=\"_parent\"><img src=\"https://colab.research.google.com/assets/colab-badge.svg\" alt=\"Open In Colab\"/></a>"
      ]
    },
    {
      "cell_type": "markdown",
      "source": [
        "# Cell 1: Imports and Setup"
      ],
      "metadata": {
        "id": "L_p8xDfjFG_T"
      }
    },
    {
      "cell_type": "code",
      "source": [
        "!pip install -U google-generativeai"
      ],
      "metadata": {
        "id": "W3XrvGcgyFeP",
        "colab": {
          "base_uri": "https://localhost:8080/"
        },
        "outputId": "d6140a4a-80c3-45ed-b88c-3c3c969de93e"
      },
      "execution_count": 11,
      "outputs": [
        {
          "output_type": "stream",
          "name": "stdout",
          "text": [
            "Requirement already satisfied: google-generativeai in /usr/local/lib/python3.10/dist-packages (0.7.2)\n",
            "Requirement already satisfied: google-ai-generativelanguage==0.6.6 in /usr/local/lib/python3.10/dist-packages (from google-generativeai) (0.6.6)\n",
            "Requirement already satisfied: google-api-core in /usr/local/lib/python3.10/dist-packages (from google-generativeai) (2.19.1)\n",
            "Requirement already satisfied: google-api-python-client in /usr/local/lib/python3.10/dist-packages (from google-generativeai) (2.137.0)\n",
            "Requirement already satisfied: google-auth>=2.15.0 in /usr/local/lib/python3.10/dist-packages (from google-generativeai) (2.27.0)\n",
            "Requirement already satisfied: protobuf in /usr/local/lib/python3.10/dist-packages (from google-generativeai) (3.20.3)\n",
            "Requirement already satisfied: pydantic in /usr/local/lib/python3.10/dist-packages (from google-generativeai) (2.8.2)\n",
            "Requirement already satisfied: tqdm in /usr/local/lib/python3.10/dist-packages (from google-generativeai) (4.66.5)\n",
            "Requirement already satisfied: typing-extensions in /usr/local/lib/python3.10/dist-packages (from google-generativeai) (4.12.2)\n",
            "Requirement already satisfied: proto-plus<2.0.0dev,>=1.22.3 in /usr/local/lib/python3.10/dist-packages (from google-ai-generativelanguage==0.6.6->google-generativeai) (1.24.0)\n",
            "Requirement already satisfied: googleapis-common-protos<2.0.dev0,>=1.56.2 in /usr/local/lib/python3.10/dist-packages (from google-api-core->google-generativeai) (1.63.2)\n",
            "Requirement already satisfied: requests<3.0.0.dev0,>=2.18.0 in /usr/local/lib/python3.10/dist-packages (from google-api-core->google-generativeai) (2.32.3)\n",
            "Requirement already satisfied: cachetools<6.0,>=2.0.0 in /usr/local/lib/python3.10/dist-packages (from google-auth>=2.15.0->google-generativeai) (5.4.0)\n",
            "Requirement already satisfied: pyasn1-modules>=0.2.1 in /usr/local/lib/python3.10/dist-packages (from google-auth>=2.15.0->google-generativeai) (0.4.0)\n",
            "Requirement already satisfied: rsa<5,>=3.1.4 in /usr/local/lib/python3.10/dist-packages (from google-auth>=2.15.0->google-generativeai) (4.9)\n",
            "Requirement already satisfied: httplib2<1.dev0,>=0.19.0 in /usr/local/lib/python3.10/dist-packages (from google-api-python-client->google-generativeai) (0.22.0)\n",
            "Requirement already satisfied: google-auth-httplib2<1.0.0,>=0.2.0 in /usr/local/lib/python3.10/dist-packages (from google-api-python-client->google-generativeai) (0.2.0)\n",
            "Requirement already satisfied: uritemplate<5,>=3.0.1 in /usr/local/lib/python3.10/dist-packages (from google-api-python-client->google-generativeai) (4.1.1)\n",
            "Requirement already satisfied: annotated-types>=0.4.0 in /usr/local/lib/python3.10/dist-packages (from pydantic->google-generativeai) (0.7.0)\n",
            "Requirement already satisfied: pydantic-core==2.20.1 in /usr/local/lib/python3.10/dist-packages (from pydantic->google-generativeai) (2.20.1)\n",
            "Requirement already satisfied: grpcio<2.0dev,>=1.33.2 in /usr/local/lib/python3.10/dist-packages (from google-api-core[grpc]!=2.0.*,!=2.1.*,!=2.10.*,!=2.2.*,!=2.3.*,!=2.4.*,!=2.5.*,!=2.6.*,!=2.7.*,!=2.8.*,!=2.9.*,<3.0.0dev,>=1.34.1->google-ai-generativelanguage==0.6.6->google-generativeai) (1.64.1)\n",
            "Requirement already satisfied: grpcio-status<2.0.dev0,>=1.33.2 in /usr/local/lib/python3.10/dist-packages (from google-api-core[grpc]!=2.0.*,!=2.1.*,!=2.10.*,!=2.2.*,!=2.3.*,!=2.4.*,!=2.5.*,!=2.6.*,!=2.7.*,!=2.8.*,!=2.9.*,<3.0.0dev,>=1.34.1->google-ai-generativelanguage==0.6.6->google-generativeai) (1.48.2)\n",
            "Requirement already satisfied: pyparsing!=3.0.0,!=3.0.1,!=3.0.2,!=3.0.3,<4,>=2.4.2 in /usr/local/lib/python3.10/dist-packages (from httplib2<1.dev0,>=0.19.0->google-api-python-client->google-generativeai) (3.1.2)\n",
            "Requirement already satisfied: pyasn1<0.7.0,>=0.4.6 in /usr/local/lib/python3.10/dist-packages (from pyasn1-modules>=0.2.1->google-auth>=2.15.0->google-generativeai) (0.6.0)\n",
            "Requirement already satisfied: charset-normalizer<4,>=2 in /usr/local/lib/python3.10/dist-packages (from requests<3.0.0.dev0,>=2.18.0->google-api-core->google-generativeai) (3.3.2)\n",
            "Requirement already satisfied: idna<4,>=2.5 in /usr/local/lib/python3.10/dist-packages (from requests<3.0.0.dev0,>=2.18.0->google-api-core->google-generativeai) (3.7)\n",
            "Requirement already satisfied: urllib3<3,>=1.21.1 in /usr/local/lib/python3.10/dist-packages (from requests<3.0.0.dev0,>=2.18.0->google-api-core->google-generativeai) (2.0.7)\n",
            "Requirement already satisfied: certifi>=2017.4.17 in /usr/local/lib/python3.10/dist-packages (from requests<3.0.0.dev0,>=2.18.0->google-api-core->google-generativeai) (2024.7.4)\n"
          ]
        }
      ]
    },
    {
      "cell_type": "code",
      "execution_count": 12,
      "metadata": {
        "id": "Rs1RgWClv5HM"
      },
      "outputs": [],
      "source": [
        "import time\n",
        "from typing import Optional, Dict, List, Any\n",
        "import requests\n",
        "import http.client\n",
        "import json\n",
        "import google.generativeai as genai\n",
        "from IPython.display import display, Markdown\n",
        "\n",
        "\n",
        "API_KEY_COINGECKO = ''\n",
        "API_KEY_SERPER = ''\n",
        "API_KEY_GOOGLE_AI = ''\n",
        "\n",
        "genai.configure(api_key=API_KEY_GOOGLE_AI)"
      ]
    },
    {
      "cell_type": "markdown",
      "source": [
        "# Cell 2: CoinGecko & Helper Functions"
      ],
      "metadata": {
        "id": "ZyrzTn_6wfWI"
      }
    },
    {
      "cell_type": "code",
      "source": [
        "def get_json_data(url: str) -> dict:\n",
        "    headers = {'x-cg-demo-api-key': API_KEY_COINGECKO}\n",
        "    response = requests.get(url, headers=headers)\n",
        "    if response.status_code == 200:\n",
        "        return response.json()\n",
        "    else:\n",
        "        raise Exception(f\"Error fetching data: {response.status_code}\")\n",
        "\n",
        "def rate_limit(response: dict) -> bool:\n",
        "    if \"status\" in response:\n",
        "        if response[\"status\"].get(\"error_code\") == 429:\n",
        "            print(f\"Rate limit error: {response['status']['error_message']}\")\n",
        "            return True\n",
        "    return False\n",
        "\n",
        "def get_coin_by_id(id: str) -> dict:\n",
        "    data = get_json_data(f\"https://api.coingecko.com/api/v3/coins/{id}\")\n",
        "    if rate_limit(data):\n",
        "        raise Exception(\"Rate limit reached\")\n",
        "    return data\n",
        "\n",
        "def get_coins_markets(currency: str = \"usd\", order: str = \"market_cap_desc\", per_page: int = 250, page: int = 1) -> List[dict]:\n",
        "    data = get_json_data(\n",
        "        f\"https://api.coingecko.com/api/v3/coins/markets?vs_currency={currency}&order={order}&per_page={per_page}&page={page}&sparkline=false\"\n",
        "    )\n",
        "    if rate_limit(data):\n",
        "        raise Exception(\"Rate limit reached\")\n",
        "    return data\n",
        "\n",
        "def get_detailed_coin_info(ticker: str) -> Optional[Dict]:\n",
        "    try:\n",
        "        coins_list = get_coins_markets()\n",
        "        coin_data = next((coin for coin in coins_list if coin['symbol'].upper() == ticker.upper()), None)\n",
        "\n",
        "        if coin_data:\n",
        "            coin_id = coin_data['id']\n",
        "            coin_dict = get_coin_by_id(coin_id)\n",
        "\n",
        "            if coin_dict:\n",
        "                return {\n",
        "                    \"id\": coin_id,\n",
        "                    \"symbol\": coin_dict[\"symbol\"],\n",
        "                    \"name\": coin_dict[\"name\"],\n",
        "                    \"price\": coin_dict[\"market_data\"][\"current_price\"].get(\"usd\", 0),\n",
        "                    \"market_cap_rank\": coin_dict[\"market_cap_rank\"],\n",
        "                    \"description\": coin_dict[\"description\"].get(\"en\", \"\"),\n",
        "                }\n",
        "    except Exception as e:\n",
        "        print(f\"Error in API call for {ticker}: {e}\")\n",
        "    return None\n",
        "\n",
        "def get_top_coins(n: int = 100) -> List[Dict]:\n",
        "    coins = get_coins_markets(per_page=n)\n",
        "    return [{\n",
        "        \"rank\": coin[\"market_cap_rank\"],\n",
        "        \"symbol\": coin[\"symbol\"],\n",
        "        \"name\": coin[\"name\"],\n",
        "        \"price\": coin[\"current_price\"],\n",
        "        \"market_cap\": coin[\"market_cap\"],\n",
        "        \"volume_24h\": coin[\"total_volume\"],\n",
        "        \"change_24h\": coin[\"price_change_percentage_24h\"],\n",
        "    } for coin in coins]\n"
      ],
      "metadata": {
        "id": "TsurLL01v8jj"
      },
      "execution_count": 13,
      "outputs": []
    },
    {
      "cell_type": "markdown",
      "source": [
        "Note: These helper functions are used to interact with the CoinGecko API.\n",
        "They handle JSON data retrieval, specific coin data fetching, and rate limiting."
      ],
      "metadata": {
        "id": "ktLXj_OSFiwu"
      }
    },
    {
      "cell_type": "markdown",
      "source": [
        "# Search Tool"
      ],
      "metadata": {
        "id": "k9hBE7vdg4MD"
      }
    },
    {
      "cell_type": "code",
      "source": [
        "def search_coin(coin_name: str) -> Dict[str, Any]:\n",
        "    conn = http.client.HTTPSConnection(\"google.serper.dev\")\n",
        "    payload = json.dumps({\n",
        "        \"q\": f\"{coin_name} cryptocurrency analysis\"\n",
        "    })\n",
        "    headers = {\n",
        "        'X-API-KEY': API_KEY_SERPER,\n",
        "        'Content-Type': 'application/json'\n",
        "    }\n",
        "    conn.request(\"POST\", \"/search\", payload, headers)\n",
        "    res = conn.getresponse()\n",
        "    data = res.read()\n",
        "    return json.loads(data.decode(\"utf-8\"))\n"
      ],
      "metadata": {
        "id": "4VJt3ZxFWnnz"
      },
      "execution_count": 14,
      "outputs": []
    },
    {
      "cell_type": "markdown",
      "source": [
        "#Using Gemini Flash"
      ],
      "metadata": {
        "id": "xWhsdbx8g7vA"
      }
    },
    {
      "cell_type": "code",
      "source": [
        "def analyze_coin(coin_data: Dict[str, Any], search_results: Dict[str, Any]) -> str:\n",
        "    model = genai.GenerativeModel(\"gemini-1.5-flash\")\n",
        "\n",
        "    prompt = f\"\"\"Analyze this cryptocurrency data and search results. Provide a general report, recent trends, and potential alpha:\n",
        "\n",
        "Coin Data:\n",
        "{json.dumps(coin_data, indent=2)}\n",
        "\n",
        "Search Results:\n",
        "{json.dumps(search_results, indent=2)}\"\"\"\n",
        "\n",
        "    response = model.generate_content(prompt)\n",
        "    return response.text"
      ],
      "metadata": {
        "id": "cMWeiDe4F1Uy"
      },
      "execution_count": 15,
      "outputs": []
    },
    {
      "cell_type": "markdown",
      "source": [
        "#Agent Workflow"
      ],
      "metadata": {
        "id": "qn4hhbz5hCaV"
      }
    },
    {
      "cell_type": "code",
      "source": [
        "def crypto_analysis(coin_name: str) -> Dict[str, Any]:\n",
        "    # Step 1: Get detailed coin info from CoinGecko\n",
        "    time.sleep(6)  # Rate limiting\n",
        "    coin_data = get_detailed_coin_info(coin_name)\n",
        "    if not coin_data:\n",
        "        return {\"error\": f\"Unable to fetch data for {coin_name}\"}\n",
        "\n",
        "    # Step 2: Perform web search for recent news and analysis\n",
        "    search_results = search_coin(coin_data['name'])\n",
        "\n",
        "    # Step 3: Get top 10 coins for market context\n",
        "    top_coins = get_top_coins(10)\n",
        "\n",
        "    # Step 4: Analyze data with Google AI\n",
        "    analysis = analyze_coin(coin_data, search_results)\n",
        "\n",
        "    # Step 5: Compile all information into a comprehensive report\n",
        "    report = {\n",
        "        \"coin_data\": coin_data,\n",
        "        \"market_context\": {\n",
        "            \"top_10_coins\": top_coins,\n",
        "            \"coin_rank\": next((coin['rank'] for coin in top_coins if coin['symbol'] == coin_name.lower()), \"Not in top 10\")\n",
        "        },\n",
        "        \"recent_news\": search_results,\n",
        "        \"ai_analysis\": analysis\n",
        "    }\n",
        "\n",
        "    return report"
      ],
      "metadata": {
        "id": "ZC0XM2f2wldP"
      },
      "execution_count": 16,
      "outputs": []
    },
    {
      "cell_type": "markdown",
      "source": [
        "# Report Generation\n",
        "\n",
        "\n",
        "---\n",
        "\n"
      ],
      "metadata": {
        "id": "kIOpv33uwuMe"
      }
    },
    {
      "cell_type": "code",
      "source": [
        "def generate_markdown_report(report: Dict[str, Any]) -> str:\n",
        "    coin_data = report.get('coin_data', {})\n",
        "    market_context = report.get('market_context', {})\n",
        "\n",
        "    md_content = f\"\"\"\n",
        "# Cryptocurrency Analysis Report for {coin_data.get('name', 'Unknown')}\n",
        "\n",
        "## Coin Data\n",
        "- Name: {coin_data.get('name', 'Unknown')}\n",
        "- Symbol: {coin_data.get('symbol', 'Unknown')}\n",
        "- Current Price: ${coin_data.get('price', 'N/A'):,.2f}\n",
        "- Market Cap Rank: {coin_data.get('market_cap_rank', 'N/A')}\n",
        "\n",
        "\n",
        "## Description\n",
        "{coin_data.get('description', 'No description available.')}\n",
        "\n",
        "## Market Context\n",
        "### Top 10 Coins:\n",
        "{chr(10).join([f\"{i+1}. {coin.get('name', 'Unknown')} ({coin.get('symbol', 'Unknown')})\" for i, coin in enumerate(market_context.get('top_10_coins', []))])}\n",
        "\n",
        "## AI Analysis\n",
        "{report.get('ai_analysis', 'No AI analysis available')}\n",
        "    \"\"\"\n",
        "    return md_content"
      ],
      "metadata": {
        "id": "UEfDeQ74wpUr"
      },
      "execution_count": 17,
      "outputs": []
    },
    {
      "cell_type": "markdown",
      "source": [
        "# Main function to run the analysis\n"
      ],
      "metadata": {
        "id": "lho9In4KwyI5"
      }
    },
    {
      "cell_type": "code",
      "source": [
        "def main():\n",
        "    coin_name = input(\"Enter the name of the cryptocurrency to analyze: \")\n",
        "    print(f\"Analyzing {coin_name}...\")\n",
        "\n",
        "    try:\n",
        "        analysis_report = crypto_analysis(coin_name)\n",
        "        if \"error\" in analysis_report:\n",
        "            print(f\"Error: {analysis_report['error']}\")\n",
        "        else:\n",
        "            md_report = generate_markdown_report(analysis_report)\n",
        "\n",
        "            # Display in Jupyter Notebook\n",
        "            display(Markdown(md_report))\n",
        "\n",
        "            # Save to file\n",
        "            with open(f\"{coin_name}_analysis.md\", \"w\") as f:\n",
        "                f.write(md_report)\n",
        "            print(f\"Analysis report saved as {coin_name}_analysis.md\")\n",
        "    except Exception as e:\n",
        "\n",
        "        print(f\"An error occurred: {e}\")\n",
        "\n",
        "# Cell 8: Run the main function\n",
        "if __name__ == \"__main__\":\n",
        "    main()"
      ],
      "metadata": {
        "colab": {
          "base_uri": "https://localhost:8080/",
          "height": 1000
        },
        "id": "mVowN7c_3KFg",
        "outputId": "4d5c9145-56ec-4baf-de05-0c921cce6e66"
      },
      "execution_count": 19,
      "outputs": [
        {
          "output_type": "stream",
          "name": "stdout",
          "text": [
            "Enter the name of the cryptocurrency to analyze: nft\n",
            "Analyzing nft...\n"
          ]
        },
        {
          "output_type": "display_data",
          "data": {
            "text/plain": [
              "<IPython.core.display.Markdown object>"
            ],
            "text/markdown": "\n# Cryptocurrency Analysis Report for APENFT\n\n## Coin Data\n- Name: APENFT\n- Symbol: nft\n- Current Price: $0.00\n- Market Cap Rank: 150\n\n\n## Description\nAPENFT Fund was born with the mission to register world-class artworks as NFTs on-chain. It is built on top of TRON, one of the world's top three public chains, and is powered by the world's largest distributed data storage system BitTorrent.\r\n\r\nLike how blockchain democratizes finance like never before, APENFT, by turning top artists and art pieces into NFTs, not only upgrades the way artworks are hosted but also transforms them from being elite-exclusive items to something that truly belongs to the people and mirrors their aspirations. APENFT is the art for everyone.\n\n## Market Context\n### Top 10 Coins:\n1. Bitcoin (btc)\n2. Ethereum (eth)\n3. Tether (usdt)\n4. BNB (bnb)\n5. Solana (sol)\n6. USDC (usdc)\n7. XRP (xrp)\n8. Lido Staked Ether (steth)\n9. Toncoin (ton)\n10. Dogecoin (doge)\n\n## AI Analysis\n## APENFT (NFT) Cryptocurrency Report\n\n**General Overview:**\n\nAPENFT is a cryptocurrency built on the TRON blockchain, focused on registering and securing world-class artworks as NFTs. It aims to democratize art by making it accessible to everyone through blockchain technology.\n\n**Coin Data:**\n\n* **Symbol:** NFT\n* **Price:** $0.0000003819 (as of 2023-11-24)\n* **Market Cap Rank:** 150\n* **Description:**  APENFT aims to revolutionize art ownership by registering artworks as NFTs on the TRON blockchain, making them accessible and secure.\n\n**Recent Trends:**\n\n* **Search Interest:** There is strong interest in APENFT, evidenced by the numerous search results.  Users are particularly interested in price predictions and potential investment opportunities.\n* **Price Predictions:**  Most price predictions for APENFT range from moderate growth to significant increases in the future. While there's no guarantee of these predictions coming true, they indicate a level of optimism regarding the project's potential.\n* **Market Sentiment:**  The search results show a mix of positive and neutral sentiment. Some sources believe APENFT has the potential to grow substantially, while others point to the volatility of the crypto market.\n\n**Potential Alpha:**\n\n* **Adoption:**  The success of APENFT heavily depends on its ability to attract artists and collectors to its platform. Widespread adoption could lead to increased value for the NFT token.\n* **TRON Blockchain:** APENFT leverages the TRON blockchain, which has a strong community and growing adoption. This could contribute to the project's success.\n* **NFT Market:**  The NFT market is constantly evolving and growing, offering potential for APENFT to capitalize on its position as an NFT-focused platform.\n* **Partnerships:**  APENFT has partnerships with notable organizations like the BitTorrent network, which could boost its visibility and credibility.\n\n**Potential Risks:**\n\n* **Market Volatility:** The cryptocurrency market is notoriously volatile, and APENFT's price could fluctuate significantly.\n* **Competition:**  APENFT faces competition from other NFT platforms and marketplaces.\n* **Regulatory Uncertainty:** The regulatory landscape for cryptocurrencies is still evolving, and changes could impact the project's future.\n\n**Conclusion:**\n\nAPENFT presents an interesting opportunity within the burgeoning NFT market. It benefits from its association with the TRON blockchain and its focus on democratizing art ownership.  However, investors need to be aware of the risks associated with cryptocurrencies, including volatility, competition, and regulatory uncertainty. It's crucial to conduct thorough research and understand the project's fundamentals before investing in APENFT.\n\n    "
          },
          "metadata": {}
        },
        {
          "output_type": "stream",
          "name": "stdout",
          "text": [
            "Analysis report saved as nft_analysis.md\n"
          ]
        }
      ]
    }
  ]
}
